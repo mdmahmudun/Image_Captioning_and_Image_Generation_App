{
 "cells": [
  {
   "cell_type": "code",
   "execution_count": 1,
   "id": "7d41126c-96e8-4eae-8377-13dd8b5caca4",
   "metadata": {},
   "outputs": [
    {
     "name": "stderr",
     "output_type": "stream",
     "text": [
      "C:\\Users\\Asus\\anaconda3\\envs\\NLP\\lib\\site-packages\\tqdm\\auto.py:21: TqdmWarning: IProgress not found. Please update jupyter and ipywidgets. See https://ipywidgets.readthedocs.io/en/stable/user_install.html\n",
      "  from .autonotebook import tqdm as notebook_tqdm\n"
     ]
    }
   ],
   "source": [
    "import io\n",
    "import base64\n",
    "import warnings\n",
    "import gradio as gr\n",
    "warnings.filterwarnings('ignore')"
   ]
  },
  {
   "cell_type": "code",
   "execution_count": 2,
   "id": "cb32e8b7-f24f-4ac0-888e-9eda7a175549",
   "metadata": {},
   "outputs": [],
   "source": [
    "from transformers import pipeline\n",
    "cap_model = pipeline(task = 'image-to-text', model = \"Salesforce/blip-image-captioning-base\")\n",
    "\n",
    "def image_to_base64_str(pil_image):\n",
    "    byte_arr = io.BytesIO()\n",
    "    pil_image.save(byte_arr, format = 'PNG')\n",
    "    byte_arr = byte_arr.getvalue()\n",
    "    return str(base64.b64encode(byte_arr).decode('utf-8'))\n",
    "\n",
    "def captioner(image):\n",
    "    base64_image = image_to_base64_str(image)\n",
    "    result = cap_model(base64_image)\n",
    "    return result[0]['generated_text']\n",
    "\n",
    "gr.close_all()\n",
    "image_captioning = gr.Interface(\n",
    "    fn = captioner,\n",
    "    inputs = [gr.Image(label = \"Upload Image\", type = 'pil')],\n",
    "    outputs = [gr.Textbox(label = 'Caption')],\n",
    "    allow_flagging = 'never'\n",
    ")\n",
    "\n",
    "# Add Markdown content\n",
    "markdown_content_img_cap = gr.Markdown(\n",
    "    \"\"\"\n",
    "    <div style='text-align: center; font-family: \"Times New Roman\";'>\n",
    "        <h1 style='color: #FF6347;'>Caption Any Image Using the BLIP model</h1>\n",
    "        <h3 style='color: #4682B4;'>Model: Salesforce/blip-image-captioning-base</h3>\n",
    "        <h3 style='color: #32CD32;'>Made By: Md. Mahmudun Nabi</h3>\n",
    "    </div>\n",
    "    \"\"\"\n",
    ")\n",
    "\n",
    "# Combine the Markdown content and the demo interface\n",
    "img_cap_with_markdown = gr.Blocks()\n",
    "with img_cap_with_markdown:\n",
    "    markdown_content_img_cap.render()\n",
    "    image_captioning.render()"
   ]
  },
  {
   "cell_type": "code",
   "execution_count": 3,
   "id": "ce9bdea4-77c8-4484-9598-8e51be0d0877",
   "metadata": {},
   "outputs": [
    {
     "name": "stderr",
     "output_type": "stream",
     "text": [
      "Loading pipeline components...: 100%|████████████████████████████████████████████████████| 7/7 [00:01<00:00,  3.53it/s]\n"
     ]
    }
   ],
   "source": [
    "import gradio as gr\n",
    "from diffusers import DiffusionPipeline\n",
    "\n",
    "# Load the pipeline\n",
    "gen_model = DiffusionPipeline.from_pretrained(\"runwayml/stable-diffusion-v1-5\")\n",
    "gen_model = gen_model.to('cpu')\n",
    "\n",
    "# Define the function\n",
    "def get_completion(prompt):\n",
    "    return gen_model(prompt).images[0]    \n",
    "\n",
    "# Create the Gradio interface\n",
    "img_gen = gr.Interface(\n",
    "    fn=get_completion,\n",
    "    inputs=gr.Textbox(lines=2, placeholder=\"Enter a prompt here...\"),\n",
    "    outputs=gr.Image(type=\"pil\"),\n",
    ")\n",
    "\n",
    "# Add Markdown content\n",
    "markdown_content_img_gen = gr.Markdown(\n",
    "    \"\"\"\n",
    "    <div style='text-align: center; font-family: \"Times New Roman\";'>\n",
    "        <h1 style='color: #FF6347;'>Image Generation Using Stable Diffusion</h1>\n",
    "        <h3 style='color: #4682B4;'>Model: runwayml/stable-diffusion-v1-5</h3>\n",
    "        <h3 style='color: #32CD32;'>Made By: Md. Mahmudun Nabi</h3>\n",
    "    </div>\n",
    "    \"\"\"\n",
    ")\n",
    "\n",
    "# Combine the Markdown content and the demo interface\n",
    "img_gen_with_markdown = gr.Blocks()\n",
    "with img_gen_with_markdown:\n",
    "    markdown_content_img_gen.render()\n",
    "    img_gen.render()"
   ]
  },
  {
   "cell_type": "code",
   "execution_count": 4,
   "id": "8af534b0-ae38-46f4-9572-604341e2985d",
   "metadata": {},
   "outputs": [
    {
     "name": "stdout",
     "output_type": "stream",
     "text": [
      "Running on local URL:  http://127.0.0.1:7860\n",
      "\n",
      "To create a public link, set `share=True` in `launch()`.\n"
     ]
    },
    {
     "data": {
      "text/html": [
       "<div><iframe src=\"http://127.0.0.1:7860/\" width=\"100%\" height=\"500\" allow=\"autoplay; camera; microphone; clipboard-read; clipboard-write;\" frameborder=\"0\" allowfullscreen></iframe></div>"
      ],
      "text/plain": [
       "<IPython.core.display.HTML object>"
      ]
     },
     "metadata": {},
     "output_type": "display_data"
    },
    {
     "name": "stderr",
     "output_type": "stream",
     "text": [
      " 24%|███████████████████▋                                                              | 12/50 [06:42<21:49, 34.47s/it]"
     ]
    }
   ],
   "source": [
    "# Combine both the app\n",
    "demo = gr.Blocks()\n",
    "with demo:\n",
    "    gr.TabbedInterface(\n",
    "        [img_cap_with_markdown, img_gen_with_markdown],\n",
    "        ['Image Captioning', 'Image Generation']\n",
    "    )\n",
    "\n",
    "\n",
    "if __name__ == \"__main__\":\n",
    "    demo.launch()"
   ]
  },
  {
   "cell_type": "code",
   "execution_count": null,
   "id": "3cabab1a-c816-4b4b-b348-03b43f52a0b5",
   "metadata": {},
   "outputs": [],
   "source": []
  }
 ],
 "metadata": {
  "kernelspec": {
   "display_name": "NLP",
   "language": "python",
   "name": "nlp"
  },
  "language_info": {
   "codemirror_mode": {
    "name": "ipython",
    "version": 3
   },
   "file_extension": ".py",
   "mimetype": "text/x-python",
   "name": "python",
   "nbconvert_exporter": "python",
   "pygments_lexer": "ipython3",
   "version": "3.10.14"
  }
 },
 "nbformat": 4,
 "nbformat_minor": 5
}
